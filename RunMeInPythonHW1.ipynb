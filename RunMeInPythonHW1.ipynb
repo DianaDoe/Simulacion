{
 "cells": [
  {
   "cell_type": "markdown",
   "metadata": {},
   "source": [
    "<center> <h1> HOMEWORK 1 </h1> </center>\n",
    "<center> <h2> Simulación </h2> </center>\n",
    "<center> <h3> Diana Castro </h3> </center>\n",
    "<center> <h5> 614181013 </h5> </center>\n",
    "\n",
    "### 2.Programming\n",
    "#### 1."
   ]
  },
  {
   "cell_type": "code",
   "execution_count": 1,
   "metadata": {},
   "outputs": [
    {
     "name": "stdout",
     "output_type": "stream",
     "text": [
      "10\n",
      "\n",
      " The first 10 Lucas numers are:\n",
      "[1, 3, 4, 7, 11, 18, 29, 47, 76, 123]\n"
     ]
    }
   ],
   "source": [
    "#Ingresar la cantidad de números de lucas que se quiere\n",
    "n=int(input())\n",
    "\n",
    "#Valores iniciales\n",
    "n1=1\n",
    "n2=3\n",
    "\n",
    "#Vector que almacena los números de Lucas, con los valores iniciales\n",
    "lucas=[n1,n2]\n",
    "\n",
    "print('\\n', 'The first', n, 'Lucas numers are:')\n",
    "\n",
    "#Procedimiento para calcular cada número de Lucas\n",
    "for i in range(n-2):\n",
    "    aux=n1+n2\n",
    "    n1=n2\n",
    "    n2=aux\n",
    "    lucas.append(n2)\n",
    "    \n",
    "#Impresión de todos los n números de lucas    \n",
    "print(lucas)"
   ]
  },
  {
   "cell_type": "markdown",
   "metadata": {},
   "source": [
    "#### 2. (procedimiento)"
   ]
  },
  {
   "cell_type": "markdown",
   "metadata": {},
   "source": [
    "<center> <h3> <span style=\"color:blue\"> ¡EL SIGUIENTE CÓDIGO TARDA 1 HORA EN EJECUTARSE!</span> </h3> </center>\n",
    "\n",
    "###### PD1: Al final esta el mismo código pero con menor tiempo para poder comprobar su funcionamiento en menor tiempo\n",
    "\n",
    "###### PD2: Ya hay un archivo llamado DataCopy.txt con todos los números obtenidos en una hora, en caso de que si se quiere correr el siguiente código e interrumpirlo, haya una copia con todos los datos.\n",
    "\n",
    "###### PD3: Esta en markdown para evitar ser ejecutado y esperar 1 una hora"
   ]
  },
  {
   "cell_type": "code",
   "execution_count": 3,
   "metadata": {},
   "outputs": [
    {
     "name": "stdout",
     "output_type": "stream",
     "text": [
      "Inicio=  2020-08-22 04:06:13.715595\n",
      "Fin=  2020-08-22 05:06:13.901986\n",
      "En una hora obtuvimos: 232528 números de Lucas!!!!!\n"
     ]
    }
   ],
   "source": [
    "#Libreria para manipular fechas\n",
    "import datetime as t\n",
    "\n",
    "#Valores iniciales de los números de Lucas\n",
    "n1=1\n",
    "n2=3\n",
    "\n",
    "#Fecha y hora de inicio\n",
    "inicio=t.datetime.utcnow()\n",
    "#Fecha y hora pasada una hora\n",
    "fin= inicio + t.timedelta(hours=1)\n",
    "\n",
    "#Abrimos un archivo txt para almacenar los datos\n",
    "archivo = open(\"Data.txt\", 'w')\n",
    "#Escribimos los valores iniciales\n",
    "archivo.write('1\\n')\n",
    "archivo.write(\"3\\n\")\n",
    "\n",
    "#Procedimiento para calcular los números de Lucas durante una hora\n",
    "count=0\n",
    "while(t.datetime.utcnow()<fin):\n",
    "    try:\n",
    "        aux=n1+n2\n",
    "        n1=n2\n",
    "        n2=aux\n",
    "        #Escribir número de Lucas actual\n",
    "        archivo.write(str(n2)+'\\n')\n",
    "        count+=1\n",
    "    except:\n",
    "        print('Hasta aca fue posible calcular :(')\n",
    "        break\n",
    "\n",
    "#Cerramos el archivo\n",
    "archivo.close() \n",
    "\n",
    "#Datos informativos:\n",
    "print('Inicio= ',inicio)\n",
    "print('Fin= ',t.datetime.utcnow())\n",
    "print('En una hora obtuvimos:', count, 'números de Lucas!!!!!')\n"
   ]
  },
  {
   "cell_type": "code",
   "execution_count": 4,
   "metadata": {},
   "outputs": [
    {
     "name": "stdout",
     "output_type": "stream",
     "text": [
      "Solo vamos a graficar hasta acá dado que los números son muy grandes\n"
     ]
    },
    {
     "name": "stderr",
     "output_type": "stream",
     "text": [
      "C:\\Users\\Diana Castro\\anaconda3\\lib\\site-packages\\matplotlib\\ticker.py:2039: RuntimeWarning: overflow encountered in multiply\n",
      "  steps = self._extended_steps * scale\n"
     ]
    },
    {
     "data": {
      "image/png": "[encoded data removed]",
      "text/plain": [
       "<Figure size 432x288 with 1 Axes>"
      ]
     },
     "metadata": {
      "needs_background": "light"
     },
     "output_type": "display_data"
    }
   ],
   "source": [
    "#Libreria necesaria para graficar\n",
    "from matplotlib import pyplot as plt\n",
    "\n",
    "#Abrimos el archivo donde estan los números de Lucas\n",
    "f = open(\"Data.txt\")\n",
    "\n",
    "#Procedimiento para imprimir dichos números\n",
    "aux=1\n",
    "for linea in f:\n",
    "    try:\n",
    "        plt.plot(aux,int(linea), marker=\"o\", color=\"red\")\n",
    "        aux+=1\n",
    "    except:\n",
    "        print('Solo vamos a graficar hasta acá dado que los números son muy grandes')\n",
    "        break\n",
    "\n",
    "plt.xlabel('Indice n')\n",
    "plt.ylabel('Ln:=Número de Lucas correspondiente a n')\n",
    "plt.title('Gráfica de n vs ln')\n",
    "\n",
    "plt.show()\n",
    "\n",
    "#Cerramos el archivo\n",
    "f.close()"
   ]
  },
  {
   "cell_type": "markdown",
   "metadata": {},
   "source": [
    "<center> <h3> <span style=\"color:blue\"> Código para verificar resultado en menor tiempo (3 segundos y 20 datos):</span> </h3> </center>\n",
    "\n",
    "Nota: Al ser menor tiempo de ejecución hay menos números"
   ]
  },
  {
   "cell_type": "code",
   "execution_count": 5,
   "metadata": {},
   "outputs": [
    {
     "name": "stdout",
     "output_type": "stream",
     "text": [
      "Inicio=  2020-08-22 05:19:39.027849\n",
      "Fin=  2020-08-22 05:19:42.028778\n",
      "En 3 segundos obtuvimos: 20220 números de Lucas!!!!!\n"
     ]
    }
   ],
   "source": [
    "#Libreria para manipular fechas\n",
    "import datetime as t\n",
    "\n",
    "#Valores iniciales de los números de Lucas\n",
    "n1=1\n",
    "n2=3\n",
    "\n",
    "#Fecha y hora de inicio\n",
    "inicio=t.datetime.utcnow()\n",
    "#Fecha y hora pasados 3 segundos\n",
    "fin= inicio + t.timedelta(seconds=3)\n",
    "\n",
    "#Abrimos un archivo txt para almacenar los datos\n",
    "archivo = open(\"Data10.txt\", 'w')\n",
    "#Escribimos los valores iniciales\n",
    "archivo.write('1\\n')\n",
    "archivo.write(\"3\\n\")\n",
    "\n",
    "#Procedimiento para calcular los números de Lucas durante 10 segundos\n",
    "count=0\n",
    "while(t.datetime.utcnow()<fin):\n",
    "    aux=n1+n2\n",
    "    n1=n2\n",
    "    n2=aux\n",
    "    #Escribir número de Lucas actual\n",
    "    archivo.write(str(n2)+'\\n')\n",
    "    count+=1\n",
    "\n",
    "#Cerramos el archivo\n",
    "archivo.close() \n",
    "\n",
    "#Datos informativos:\n",
    "print('Inicio= ',inicio)\n",
    "print('Fin= ',t.datetime.utcnow())\n",
    "print('En 3 segundos obtuvimos:', count, 'números de Lucas!!!!!')"
   ]
  },
  {
   "cell_type": "code",
   "execution_count": 6,
   "metadata": {},
   "outputs": [
    {
     "name": "stdout",
     "output_type": "stream",
     "text": [
      "Solo vamos a graficar hasta acá dado que los números son muy grandes\n"
     ]
    },
    {
     "name": "stderr",
     "output_type": "stream",
     "text": [
      "C:\\Users\\Diana Castro\\anaconda3\\lib\\site-packages\\matplotlib\\ticker.py:2039: RuntimeWarning: overflow encountered in multiply\n",
      "  steps = self._extended_steps * scale\n"
     ]
    },
    {
     "data": {
      "image/png": "[encoded data removed]",
      "text/plain": [
       "<Figure size 432x288 with 1 Axes>"
      ]
     },
     "metadata": {
      "needs_background": "light"
     },
     "output_type": "display_data"
    },
    {
     "name": "stdout",
     "output_type": "stream",
     "text": [
      "1475\n"
     ]
    }
   ],
   "source": [
    "#Libreria necesaria para graficar\n",
    "from matplotlib import pyplot as plt\n",
    "\n",
    "#Abrimos el archivo donde estan los números de Lucas\n",
    "f = open(\"Data10.txt\")\n",
    "\n",
    "#Procedimiento para imprimir dichos números\n",
    "aux=1\n",
    "for linea in f:\n",
    "    try:\n",
    "        plt.plot(aux,int(linea), marker=\"o\", color=\"red\")\n",
    "        aux+=1\n",
    "    except:\n",
    "        print('Solo vamos a graficar hasta acá dado que los números son muy grandes')\n",
    "        break\n",
    "\n",
    "plt.xlabel('Indice n')\n",
    "plt.ylabel('Ln:=Número de Lucas correspondiente a n')\n",
    "plt.title('Gráfica de n vs ln')\n",
    "\n",
    "plt.show()\n",
    "print(aux)\n",
    "#Cerramos el archivo\n",
    "f.close()"
   ]
  },
  {
   "cell_type": "code",
   "execution_count": 7,
   "metadata": {},
   "outputs": [
    {
     "data": {
      "image/png": "[encoded data removed]",
      "text/plain": [
       "<Figure size 432x288 with 1 Axes>"
      ]
     },
     "metadata": {
      "needs_background": "light"
     },
     "output_type": "display_data"
    }
   ],
   "source": [
    "#Libreria necesaria para graficar\n",
    "from matplotlib import pyplot as plt\n",
    "\n",
    "#Abrimos el archivo donde estan los números de Lucas\n",
    "f = open(\"Data10.txt\")\n",
    "\n",
    "#Procedimiento para imprimir dichos números\n",
    "aux=1\n",
    "for linea in f:\n",
    "    plt.plot(aux,int(linea), marker=\"o\", color=\"red\")\n",
    "    aux+=1\n",
    "    if(aux==20):\n",
    "        break\n",
    "\n",
    "plt.xlabel('Indice n')\n",
    "plt.ylabel('Ln:=Número de Lucas correspondiente a n')\n",
    "plt.title('Gráfica de n vs ln')\n",
    "\n",
    "plt.show()\n",
    "#Cerramos el archivo\n",
    "f.close()"
   ]
  },
  {
   "cell_type": "code",
   "execution_count": null,
   "metadata": {},
   "outputs": [],
   "source": []
  }
 ],
 "metadata": {
  "kernelspec": {
   "display_name": "Python 3",
   "language": "python",
   "name": "python3"
  },
  "language_info": {
   "codemirror_mode": {
    "name": "ipython",
    "version": 3
   },
   "file_extension": ".py",
   "mimetype": "text/x-python",
   "name": "python",
   "nbconvert_exporter": "python",
   "pygments_lexer": "ipython3",
   "version": "3.7.6"
  }
 },
 "nbformat": 4,
 "nbformat_minor": 4
}
